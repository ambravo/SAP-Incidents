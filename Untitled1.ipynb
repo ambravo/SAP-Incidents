{
  "nbformat": 4,
  "nbformat_minor": 0,
  "metadata": {
    "colab": {
      "name": "Untitled1.ipynb",
      "provenance": [],
      "authorship_tag": "ABX9TyNeAb7KhX0wsYIRiYLLBcu8",
      "include_colab_link": true
    },
    "kernelspec": {
      "name": "python3",
      "display_name": "Python 3"
    },
    "language_info": {
      "name": "python"
    }
  },
  "cells": [
    {
      "cell_type": "markdown",
      "metadata": {
        "id": "view-in-github",
        "colab_type": "text"
      },
      "source": [
        "<a href=\"https://colab.research.google.com/github/ambravo/SAP-Incidents/blob/main/Untitled1.ipynb\" target=\"_parent\"><img src=\"https://colab.research.google.com/assets/colab-badge.svg\" alt=\"Open In Colab\"/></a>"
      ]
    },
    {
      "cell_type": "code",
      "metadata": {
        "colab": {
          "base_uri": "https://localhost:8080/"
        },
        "cellView": "form",
        "id": "BJ_Ic6TyhoS1",
        "outputId": "75eeac6c-a763-492c-98cc-88ad64f2955e"
      },
      "source": [
        "#@title\n",
        "for _ in range(16):\n",
        "  print(chr(random.randint(21,126)), end ='')"
      ],
      "execution_count": 11,
      "outputs": [
        {
          "output_type": "stream",
          "text": [
            "i>zjBIjgT:7r9VkT"
          ],
          "name": "stdout"
        }
      ]
    },
    {
      "cell_type": "markdown",
      "metadata": {
        "id": "ZPRH1yc-lhrQ"
      },
      "source": [
        ""
      ]
    }
  ]
}